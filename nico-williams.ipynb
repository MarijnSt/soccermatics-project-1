{
 "cells": [
  {
   "cell_type": "code",
   "execution_count": 42,
   "metadata": {},
   "outputs": [],
   "source": [
    "import pandas as pd\n",
    "import numpy as np\n",
    "import matplotlib.pyplot as plt\n",
    "from mplsoccer import Pitch, Sbopen, VerticalPitch"
   ]
  },
  {
   "cell_type": "code",
   "execution_count": 59,
   "metadata": {},
   "outputs": [
    {
     "name": "stderr",
     "output_type": "stream",
     "text": [
      "/var/folders/5d/_v0r0r510wncd2w765n36ksw0000gn/T/ipykernel_48608/764343096.py:14: FutureWarning: The behavior of DataFrame concatenation with empty or all-NA entries is deprecated. In a future version, this will no longer exclude empty or all-NA columns when determining the result dtypes. To retain the old behavior, exclude the relevant entries before the concat operation.\n",
      "  df_dribbles = pd.concat([df_dribbles, dribble_events[columns]], ignore_index=True)\n"
     ]
    },
    {
     "name": "stdout",
     "output_type": "stream",
     "text": [
      "<class 'pandas.core.frame.DataFrame'>\n",
      "RangeIndex: 1280 entries, 0 to 1279\n",
      "Data columns (total 14 columns):\n",
      " #   Column        Non-Null Count  Dtype  \n",
      "---  ------        --------------  -----  \n",
      " 0   match_id      1280 non-null   object \n",
      " 1   period        1280 non-null   object \n",
      " 2   timestamp     1280 non-null   object \n",
      " 3   minute        1280 non-null   object \n",
      " 4   second        1280 non-null   object \n",
      " 5   possession    1280 non-null   object \n",
      " 6   duration      1280 non-null   float64\n",
      " 7   match_id      1280 non-null   object \n",
      " 8   type_name     1280 non-null   object \n",
      " 9   outcome_name  1280 non-null   object \n",
      " 10  team_name     1280 non-null   object \n",
      " 11  player_name   1280 non-null   object \n",
      " 12  x             1280 non-null   float64\n",
      " 13  y             1280 non-null   float64\n",
      "dtypes: float64(3), object(11)\n",
      "memory usage: 140.1+ KB\n"
     ]
    }
   ],
   "source": [
    "# get Euros 2024 games\n",
    "parser = Sbopen()\n",
    "df_games = parser.match(competition_id=55, season_id=282)\n",
    "\n",
    "# create empty dribbles dataframe\n",
    "columns = ['match_id', 'period', 'timestamp', 'minute', 'second', 'possession', 'duration', 'match_id', 'type_name', 'outcome_name', 'team_name', 'player_name', 'x', 'y']\n",
    "df_dribbles = pd.DataFrame(columns=columns)\n",
    "\n",
    "# loop through matches and collect dribbling events\n",
    "for match_id in df_games['match_id']:\n",
    "    df, related, freeze, tactics = parser.event(match_id)\n",
    "    dribble_events = df[df['type_name'] == 'Dribble']\n",
    "\n",
    "    df_dribbles = pd.concat([df_dribbles, dribble_events[columns]], ignore_index=True)\n",
    "\n",
    "df_dribbles.info()"
   ]
  },
  {
   "cell_type": "code",
   "execution_count": 61,
   "metadata": {},
   "outputs": [
    {
     "data": {
      "text/plain": [
       "player_name\n",
       "Nicholas Williams Arthuer      32\n",
       "Kylian Mbappé Lottin           28\n",
       "Khvicha Kvaratskhelia          28\n",
       "Lamine Yamal Nasraoui Ebana    27\n",
       "Jeremy Doku                    27\n",
       "                               ..\n",
       "László Kleinheisler             1\n",
       "Marc Guehi                      1\n",
       "Marin Pongracic                 1\n",
       "Mario Mitaj                     1\n",
       "Lazar Samardžić                 1\n",
       "Length: 305, dtype: int64"
      ]
     },
     "execution_count": 61,
     "metadata": {},
     "output_type": "execute_result"
    }
   ],
   "source": [
    "df_dribbles.groupby('player_name').size().sort_values(ascending=False)"
   ]
  }
 ],
 "metadata": {
  "kernelspec": {
   "display_name": "base",
   "language": "python",
   "name": "python3"
  },
  "language_info": {
   "codemirror_mode": {
    "name": "ipython",
    "version": 3
   },
   "file_extension": ".py",
   "mimetype": "text/x-python",
   "name": "python",
   "nbconvert_exporter": "python",
   "pygments_lexer": "ipython3",
   "version": "3.12.7"
  }
 },
 "nbformat": 4,
 "nbformat_minor": 2
}
