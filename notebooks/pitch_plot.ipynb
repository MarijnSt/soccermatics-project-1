{
 "cells": [
  {
   "cell_type": "code",
   "execution_count": null,
   "id": "6c857247",
   "metadata": {},
   "outputs": [
    {
     "name": "stdout",
     "output_type": "stream",
     "text": [
      "The autoreload extension is already loaded. To reload it, use:\n",
      "  %reload_ext autoreload\n"
     ]
    }
   ],
   "source": [
    "# Add parent directory to python path (needed for modules imports from src)\n",
    "import sys\n",
    "import os\n",
    "sys.path.append(os.path.join(os.getcwd(), '..'))\n",
    "\n",
    "# Reload modules when code is changed (uncomment for development)\n",
    "%load_ext autoreload\n",
    "%autoreload 2\n",
    "\n",
    "# Import modules\n",
    "from src.matches import get_all_match_ids, load_all_events\n",
    "from src.dribbles import get_all_dribbles"
   ]
  },
  {
   "cell_type": "markdown",
   "id": "18f4fa7d",
   "metadata": {},
   "source": [
    "# Get all match events"
   ]
  },
  {
   "cell_type": "code",
   "execution_count": null,
   "id": "36d88b6b",
   "metadata": {},
   "outputs": [],
   "source": [
    "match_ids = get_all_match_ids(competition_id=55, season_id=282)\n",
    "df_all_events = load_all_events(match_ids)"
   ]
  },
  {
   "cell_type": "code",
   "execution_count": 38,
   "id": "4b296f3c",
   "metadata": {},
   "outputs": [
    {
     "name": "stdout",
     "output_type": "stream",
     "text": [
      "<class 'pandas.core.frame.DataFrame'>\n",
      "RangeIndex: 187858 entries, 0 to 187857\n",
      "Data columns (total 87 columns):\n",
      " #   Column                          Non-Null Count   Dtype  \n",
      "---  ------                          --------------   -----  \n",
      " 0   id                              187858 non-null  object \n",
      " 1   index                           187858 non-null  int64  \n",
      " 2   period                          187858 non-null  int64  \n",
      " 3   timestamp                       187858 non-null  object \n",
      " 4   minute                          187858 non-null  int64  \n",
      " 5   second                          187858 non-null  int64  \n",
      " 6   possession                      187858 non-null  int64  \n",
      " 7   duration                        136240 non-null  float64\n",
      " 8   match_id                        187858 non-null  int64  \n",
      " 9   type_id                         187858 non-null  int64  \n",
      " 10  type_name                       187858 non-null  object \n",
      " 11  possession_team_id              187858 non-null  int64  \n",
      " 12  possession_team_name            187858 non-null  object \n",
      " 13  play_pattern_id                 187858 non-null  int64  \n",
      " 14  play_pattern_name               187858 non-null  object \n",
      " 15  team_id                         187858 non-null  int64  \n",
      " 16  team_name                       187858 non-null  object \n",
      " 17  tactics_formation               273 non-null     object \n",
      " 18  player_id                       186994 non-null  float64\n",
      " 19  player_name                     186994 non-null  object \n",
      " 20  position_id                     186994 non-null  float64\n",
      " 21  position_name                   186994 non-null  object \n",
      " 22  pass_recipient_id               51669 non-null   float64\n",
      " 23  pass_recipient_name             51669 non-null   object \n",
      " 24  pass_length                     53890 non-null   float64\n",
      " 25  pass_angle                      53890 non-null   float64\n",
      " 26  pass_height_id                  53890 non-null   float64\n",
      " 27  pass_height_name                53890 non-null   object \n",
      " 28  end_x                           100257 non-null  float64\n",
      " 29  end_y                           100257 non-null  float64\n",
      " 30  body_part_id                    54806 non-null   float64\n",
      " 31  body_part_name                  54806 non-null   object \n",
      " 32  sub_type_id                     14570 non-null   float64\n",
      " 33  sub_type_name                   14570 non-null   object \n",
      " 34  x                               186190 non-null  float64\n",
      " 35  y                               186190 non-null  float64\n",
      " 36  under_pressure                  32578 non-null   float64\n",
      " 37  outcome_id                      21250 non-null   float64\n",
      " 38  outcome_name                    21250 non-null   object \n",
      " 39  counterpress                    4514 non-null    float64\n",
      " 40  off_camera                      2041 non-null    float64\n",
      " 41  foul_committed_advantage        183 non-null     object \n",
      " 42  foul_won_advantage              180 non-null     object \n",
      " 43  technique_id                    2366 non-null    float64\n",
      " 44  technique_name                  2366 non-null    object \n",
      " 45  shot_statsbomb_xg               1340 non-null    float64\n",
      " 46  end_z                           873 non-null     float64\n",
      " 47  goalkeeper_position_id          1344 non-null    float64\n",
      " 48  goalkeeper_position_name        1344 non-null    object \n",
      " 49  aerial_won                      1519 non-null    object \n",
      " 50  pass_cross                      1228 non-null    object \n",
      " 51  out                             1318 non-null    float64\n",
      " 52  pass_assisted_shot_id           984 non-null     object \n",
      " 53  pass_shot_assist                914 non-null     object \n",
      " 54  shot_key_pass_id                984 non-null     object \n",
      " 55  foul_committed_penalty          12 non-null      object \n",
      " 56  foul_committed_card_id          174 non-null     float64\n",
      " 57  foul_committed_card_name        174 non-null     object \n",
      " 58  foul_won_penalty                9 non-null       object \n",
      " 59  pass_switch                     1356 non-null    object \n",
      " 60  block_save_block                7 non-null       object \n",
      " 61  injury_stoppage_in_chain        50 non-null      object \n",
      " 62  pass_deflected                  38 non-null      object \n",
      " 63  shot_first_time                 380 non-null     object \n",
      " 64  substitution_replacement_id     467 non-null     float64\n",
      " 65  substitution_replacement_name   467 non-null     object \n",
      " 66  foul_won_defensive              390 non-null     object \n",
      " 67  pass_cut_back                   100 non-null     object \n",
      " 68  shot_deflected                  35 non-null      object \n",
      " 69  block_deflection                69 non-null      object \n",
      " 70  bad_behaviour_card_id           58 non-null      float64\n",
      " 71  bad_behaviour_card_name         58 non-null      object \n",
      " 72  pass_goal_assist                70 non-null      object \n",
      " 73  dribble_nutmeg                  126 non-null     object \n",
      " 74  pass_no_touch                   47 non-null      object \n",
      " 75  shot_one_on_one                 53 non-null      object \n",
      " 76  dribble_overrun                 80 non-null      object \n",
      " 77  ball_recovery_recovery_failure  284 non-null     object \n",
      " 78  block_offensive                 24 non-null      object \n",
      " 79  foul_committed_offensive        41 non-null      object \n",
      " 80  shot_open_goal                  9 non-null       object \n",
      " 81  dribble_no_touch                10 non-null      object \n",
      " 82  ball_recovery_offensive         16 non-null      object \n",
      " 83  pass_miscommunication           15 non-null      object \n",
      " 84  player_off_permanent            1 non-null       object \n",
      " 85  shot_follows_dribble            1 non-null       object \n",
      " 86  shot_redirect                   1 non-null       object \n",
      "dtypes: float64(25), int64(10), object(52)\n",
      "memory usage: 124.7+ MB\n"
     ]
    }
   ],
   "source": [
    "df_all_events.info()"
   ]
  },
  {
   "cell_type": "markdown",
   "id": "7837b0a2",
   "metadata": {},
   "source": [
    "# Get all dribbles"
   ]
  },
  {
   "cell_type": "code",
   "execution_count": null,
   "id": "292c40f3",
   "metadata": {},
   "outputs": [
    {
     "name": "stdout",
     "output_type": "stream",
     "text": [
      "<class 'pandas.core.frame.DataFrame'>\n",
      "Index: 1280 entries, 89 to 187651\n",
      "Data columns (total 9 columns):\n",
      " #   Column           Non-Null Count  Dtype  \n",
      "---  ------           --------------  -----  \n",
      " 0   match_id         1280 non-null   int64  \n",
      " 1   type_name        1280 non-null   object \n",
      " 2   player_id        1280 non-null   float64\n",
      " 3   outcome_name     1280 non-null   object \n",
      " 4   x                1280 non-null   float64\n",
      " 5   y                1280 non-null   float64\n",
      " 6   danger_dribble   1280 non-null   bool   \n",
      " 7   xg_from_dribble  1280 non-null   float64\n",
      " 8   dribble_to_goal  1280 non-null   bool   \n",
      "dtypes: bool(2), float64(4), int64(1), object(2)\n",
      "memory usage: 82.5+ KB\n"
     ]
    }
   ],
   "source": [
    "df_dribbles = get_all_dribbles(match_ids, df_all_events)\n",
    "\n",
    "df_dribbles.info()"
   ]
  },
  {
   "cell_type": "markdown",
   "id": "e74d9855",
   "metadata": {},
   "source": [
    "# Get player info"
   ]
  },
  {
   "cell_type": "code",
   "execution_count": null,
   "id": "e7c47f10",
   "metadata": {},
   "outputs": [],
   "source": []
  }
 ],
 "metadata": {
  "kernelspec": {
   "display_name": "base",
   "language": "python",
   "name": "python3"
  },
  "language_info": {
   "codemirror_mode": {
    "name": "ipython",
    "version": 3
   },
   "file_extension": ".py",
   "mimetype": "text/x-python",
   "name": "python",
   "nbconvert_exporter": "python",
   "pygments_lexer": "ipython3",
   "version": "3.12.2"
  }
 },
 "nbformat": 4,
 "nbformat_minor": 5
}
